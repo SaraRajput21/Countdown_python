{
  "nbformat": 4,
  "nbformat_minor": 0,
  "metadata": {
    "colab": {
      "provenance": [],
      "authorship_tag": "ABX9TyOvLIwYDLO8582M2HPCVvHn",
      "include_colab_link": true
    },
    "kernelspec": {
      "name": "python3",
      "display_name": "Python 3"
    },
    "language_info": {
      "name": "python"
    }
  },
  "cells": [
    {
      "cell_type": "markdown",
      "metadata": {
        "id": "view-in-github",
        "colab_type": "text"
      },
      "source": [
        "<a href=\"https://colab.research.google.com/github/SaraRajput21/Countdown_python/blob/main/Countdown.ipynb\" target=\"_parent\"><img src=\"https://colab.research.google.com/assets/colab-badge.svg\" alt=\"Open In Colab\"/></a>"
      ]
    },
    {
      "cell_type": "code",
      "execution_count": 4,
      "metadata": {
        "colab": {
          "base_uri": "https://localhost:8080/"
        },
        "id": "SQyZcGFlqcgN",
        "outputId": "3ccd5317-19cb-42c5-e963-9deb6afb05d5"
      },
      "outputs": [
        {
          "output_type": "stream",
          "name": "stdout",
          "text": [
            "Enter the countdown time in seconds: 5\n",
            "Time's up!\n"
          ]
        }
      ],
      "source": [
        "import time\n",
        "\n",
        "def countdown_timer(seconds):\n",
        "    while seconds:\n",
        "        # Convert seconds to hours, minutes, and seconds\n",
        "        hours, remainder = divmod(seconds, 3600)\n",
        "        minutes, seconds = divmod(remainder, 60)\n",
        "\n",
        "        # Format the time as HH:MM:SS\n",
        "        timer = f\"{hours:02}:{minutes:02}:{seconds:02}\"\n",
        "\n",
        "        # Print the timer\n",
        "        print(timer, end=\"\\r\")  # Use \\r to overwrite the previous line\n",
        "\n",
        "        # Wait for 1 second\n",
        "        time.sleep(1)\n",
        "\n",
        "        # Decrease the timer by 1 second\n",
        "        seconds -= 1\n",
        "\n",
        "    print(\"Time's up!\")  # Display when the timer reaches zero\n",
        "\n",
        "def main():\n",
        "    try:\n",
        "        # Ask the user for the countdown time in seconds\n",
        "        seconds = int(input(\"Enter the countdown time in seconds: \"))\n",
        "\n",
        "        # Start the countdown timer\n",
        "        countdown_timer(seconds)\n",
        "    except ValueError:\n",
        "        print(\"Please enter a valid number of seconds.\")\n",
        "\n",
        "# Run the program\n",
        "if __name__ == \"__main__\":\n",
        "    main()"
      ]
    }
  ]
}